{
 "cells": [
  {
   "cell_type": "markdown",
   "id": "8f3df1be",
   "metadata": {},
   "source": [
    "# In this exercise we will train a logistic regression model that will predict the probability that a passenger of the titanic will have survived, given some of his/her characteristics"
   ]
  },
  {
   "cell_type": "code",
   "execution_count": 1,
   "id": "a92b1f03",
   "metadata": {},
   "outputs": [],
   "source": [
    "import pandas as pd\n",
    "import numpy as np\n",
    "import matplotlib.pyplot as plt\n",
    "from sklearn import metrics\n",
    "from sklearn.linear_model import LogisticRegression\n",
    "from sklearn.model_selection import train_test_split"
   ]
  },
  {
   "cell_type": "code",
   "execution_count": 1,
   "id": "90c087b4",
   "metadata": {},
   "outputs": [],
   "source": [
    "# load the data from the file\n"
   ]
  },
  {
   "cell_type": "code",
   "execution_count": 2,
   "id": "b039713c",
   "metadata": {},
   "outputs": [],
   "source": [
    "# explora the data\n"
   ]
  },
  {
   "cell_type": "markdown",
   "id": "04b69447",
   "metadata": {},
   "source": [
    "PassengerId: The ID of the passenger;\n",
    "Survived: The target variable; whether the person survived the shipwreck (1) or did not survive the shipwreck (0);\n",
    "Pclass: The class the passenger was in on the ship (1, 2 or 3);\n",
    "Name: The name of the passenger;\n",
    "Sex: The gender of the passenger;\n",
    "Age: The age of the passenger;\n",
    "SibSp: Number of siblings and spouses on the ship;\n",
    "Parch: Number of parents / children on the ship;\n",
    "Ticket: Number of the ticket;\n",
    "Fare: The fare of the ticket;\n",
    "Cabin: Number of the cabin;\n",
    "Embarked: Port of embarkation (C = Cherbourg, Q = Queenstown, S = Southhampton)."
   ]
  },
  {
   "cell_type": "markdown",
   "id": "c893c07b",
   "metadata": {},
   "source": [
    "# Preprocessing"
   ]
  },
  {
   "cell_type": "code",
   "execution_count": 3,
   "id": "aff70ecc",
   "metadata": {},
   "outputs": [],
   "source": [
    "# get rid of the features that do cannot influence the survival probability\n"
   ]
  },
  {
   "cell_type": "code",
   "execution_count": 4,
   "id": "435ce423",
   "metadata": {},
   "outputs": [],
   "source": [
    "# transform the 'embarked' variable into a categorical variable\n"
   ]
  },
  {
   "cell_type": "code",
   "execution_count": 5,
   "id": "49ebf8d9",
   "metadata": {},
   "outputs": [],
   "source": [
    "# join these features to the dataset and drop the 'embarked' variable\n"
   ]
  },
  {
   "cell_type": "code",
   "execution_count": 6,
   "id": "9416c7f3",
   "metadata": {},
   "outputs": [],
   "source": [
    "# transform the 'sex' variable into a numeric categorical variable\n"
   ]
  },
  {
   "cell_type": "code",
   "execution_count": 7,
   "id": "88a09e16",
   "metadata": {},
   "outputs": [],
   "source": [
    "# check if at any line there are missing values\n"
   ]
  },
  {
   "cell_type": "code",
   "execution_count": 8,
   "id": "e0d3244d",
   "metadata": {},
   "outputs": [],
   "source": [
    "# look at the lines with missing values\n"
   ]
  },
  {
   "cell_type": "code",
   "execution_count": 9,
   "id": "c41931ec",
   "metadata": {},
   "outputs": [],
   "source": [
    "# substitute the missing ages with the average age\n"
   ]
  },
  {
   "cell_type": "markdown",
   "id": "00a0feef",
   "metadata": {},
   "source": [
    "# Training"
   ]
  },
  {
   "cell_type": "code",
   "execution_count": 10,
   "id": "a977a49c",
   "metadata": {},
   "outputs": [],
   "source": [
    "# get features and target\n"
   ]
  },
  {
   "cell_type": "code",
   "execution_count": 15,
   "id": "00dbc242",
   "metadata": {},
   "outputs": [],
   "source": [
    "# split between train and test"
   ]
  },
  {
   "cell_type": "code",
   "execution_count": 11,
   "id": "d696b621",
   "metadata": {},
   "outputs": [],
   "source": [
    "#initialize the model\n"
   ]
  },
  {
   "cell_type": "code",
   "execution_count": 12,
   "id": "74ad3721",
   "metadata": {},
   "outputs": [],
   "source": [
    "# fit the model"
   ]
  },
  {
   "cell_type": "code",
   "execution_count": 13,
   "id": "68c87701",
   "metadata": {},
   "outputs": [],
   "source": [
    "# look at the coefficients of the model\n"
   ]
  },
  {
   "cell_type": "code",
   "execution_count": 16,
   "id": "1007c2e7",
   "metadata": {},
   "outputs": [],
   "source": [
    "# look at the predictions and calculate the confusion matrix by hand\n",
    "\n"
   ]
  },
  {
   "cell_type": "code",
   "execution_count": null,
   "id": "5cc0005b",
   "metadata": {},
   "outputs": [],
   "source": [
    "# calculate accuracy, precision and recall by hand"
   ]
  },
  {
   "cell_type": "code",
   "execution_count": 14,
   "id": "02c8e9d0",
   "metadata": {},
   "outputs": [],
   "source": [
    "# calculate comfusion matrix, accuracy, rpecision and recall using the built-in functions\n"
   ]
  },
  {
   "cell_type": "code",
   "execution_count": 15,
   "id": "e59b4710",
   "metadata": {},
   "outputs": [],
   "source": [
    "# do a 5 fold cross validation and calculate the cross-validated accuracy\n"
   ]
  },
  {
   "cell_type": "markdown",
   "id": "7d0d0ac9",
   "metadata": {},
   "source": [
    "# Feature importance"
   ]
  },
  {
   "cell_type": "code",
   "execution_count": 35,
   "id": "ed7a1c26",
   "metadata": {},
   "outputs": [],
   "source": [
    "#Fit a logistic model for each variable separately, and see which one is the features fith the highest explanatory power"
   ]
  },
  {
   "cell_type": "code",
   "execution_count": null,
   "id": "445d4fc6",
   "metadata": {},
   "outputs": [],
   "source": [
    "# for each feature, train a model that uses suh feature alone. Which is the most powerful feature?\n"
   ]
  },
  {
   "cell_type": "code",
   "execution_count": null,
   "id": "98544fa6",
   "metadata": {},
   "outputs": [],
   "source": []
  }
 ],
 "metadata": {
  "kernelspec": {
   "display_name": "Python 3 (ipykernel)",
   "language": "python",
   "name": "python3"
  },
  "language_info": {
   "codemirror_mode": {
    "name": "ipython",
    "version": 3
   },
   "file_extension": ".py",
   "mimetype": "text/x-python",
   "name": "python",
   "nbconvert_exporter": "python",
   "pygments_lexer": "ipython3",
   "version": "3.10.8"
  }
 },
 "nbformat": 4,
 "nbformat_minor": 5
}
